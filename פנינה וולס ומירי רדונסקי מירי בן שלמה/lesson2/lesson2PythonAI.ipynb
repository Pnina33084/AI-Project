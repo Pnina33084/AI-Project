{
 "cells": [
  {
   "cell_type": "code",
   "execution_count": 3,
   "id": "53e1c3f7-2bcf-4c42-a3f1-9e8f8c9ef9b0",
   "metadata": {},
   "outputs": [],
   "source": [
    "import matplotlib.pyplot as plt\n",
    "import numpy as np\n",
    "import pandas as pd\n",
    "import seaborn as sns\n",
    "from sklearn import linear_model\n",
    "%matplotlib inline"
   ]
  },
  {
   "cell_type": "code",
   "execution_count": 5,
   "id": "b78b4a50-8739-47c0-aeb5-5bab0277dbae",
   "metadata": {},
   "outputs": [
    {
     "data": {
      "text/html": [
       "<div>\n",
       "<style scoped>\n",
       "    .dataframe tbody tr th:only-of-type {\n",
       "        vertical-align: middle;\n",
       "    }\n",
       "\n",
       "    .dataframe tbody tr th {\n",
       "        vertical-align: top;\n",
       "    }\n",
       "\n",
       "    .dataframe thead th {\n",
       "        text-align: right;\n",
       "    }\n",
       "</style>\n",
       "<table border=\"1\" class=\"dataframe\">\n",
       "  <thead>\n",
       "    <tr style=\"text-align: right;\">\n",
       "      <th></th>\n",
       "      <th>Oil (Gal)</th>\n",
       "      <th>Temp</th>\n",
       "      <th>Insulation</th>\n",
       "    </tr>\n",
       "  </thead>\n",
       "  <tbody>\n",
       "    <tr>\n",
       "      <th>0</th>\n",
       "      <td>275.3</td>\n",
       "      <td>40</td>\n",
       "      <td>3</td>\n",
       "    </tr>\n",
       "    <tr>\n",
       "      <th>1</th>\n",
       "      <td>363.8</td>\n",
       "      <td>27</td>\n",
       "      <td>3</td>\n",
       "    </tr>\n",
       "    <tr>\n",
       "      <th>2</th>\n",
       "      <td>164.3</td>\n",
       "      <td>40</td>\n",
       "      <td>10</td>\n",
       "    </tr>\n",
       "    <tr>\n",
       "      <th>3</th>\n",
       "      <td>40.8</td>\n",
       "      <td>73</td>\n",
       "      <td>6</td>\n",
       "    </tr>\n",
       "    <tr>\n",
       "      <th>4</th>\n",
       "      <td>94.3</td>\n",
       "      <td>64</td>\n",
       "      <td>6</td>\n",
       "    </tr>\n",
       "    <tr>\n",
       "      <th>5</th>\n",
       "      <td>230.9</td>\n",
       "      <td>34</td>\n",
       "      <td>6</td>\n",
       "    </tr>\n",
       "    <tr>\n",
       "      <th>6</th>\n",
       "      <td>366.7</td>\n",
       "      <td>9</td>\n",
       "      <td>6</td>\n",
       "    </tr>\n",
       "    <tr>\n",
       "      <th>7</th>\n",
       "      <td>300.6</td>\n",
       "      <td>8</td>\n",
       "      <td>10</td>\n",
       "    </tr>\n",
       "    <tr>\n",
       "      <th>8</th>\n",
       "      <td>237.8</td>\n",
       "      <td>23</td>\n",
       "      <td>10</td>\n",
       "    </tr>\n",
       "    <tr>\n",
       "      <th>9</th>\n",
       "      <td>121.4</td>\n",
       "      <td>63</td>\n",
       "      <td>3</td>\n",
       "    </tr>\n",
       "    <tr>\n",
       "      <th>10</th>\n",
       "      <td>31.4</td>\n",
       "      <td>65</td>\n",
       "      <td>10</td>\n",
       "    </tr>\n",
       "    <tr>\n",
       "      <th>11</th>\n",
       "      <td>203.5</td>\n",
       "      <td>41</td>\n",
       "      <td>6</td>\n",
       "    </tr>\n",
       "    <tr>\n",
       "      <th>12</th>\n",
       "      <td>441.1</td>\n",
       "      <td>21</td>\n",
       "      <td>3</td>\n",
       "    </tr>\n",
       "    <tr>\n",
       "      <th>13</th>\n",
       "      <td>323.0</td>\n",
       "      <td>38</td>\n",
       "      <td>3</td>\n",
       "    </tr>\n",
       "    <tr>\n",
       "      <th>14</th>\n",
       "      <td>52.5</td>\n",
       "      <td>58</td>\n",
       "      <td>10</td>\n",
       "    </tr>\n",
       "  </tbody>\n",
       "</table>\n",
       "</div>"
      ],
      "text/plain": [
       "    Oil (Gal)  Temp   Insulation\n",
       "0       275.3     40           3\n",
       "1       363.8     27           3\n",
       "2       164.3     40          10\n",
       "3        40.8     73           6\n",
       "4        94.3     64           6\n",
       "5       230.9     34           6\n",
       "6       366.7      9           6\n",
       "7       300.6      8          10\n",
       "8       237.8     23          10\n",
       "9       121.4     63           3\n",
       "10       31.4     65          10\n",
       "11      203.5     41           6\n",
       "12      441.1     21           3\n",
       "13      323.0     38           3\n",
       "14       52.5     58          10"
      ]
     },
     "execution_count": 5,
     "metadata": {},
     "output_type": "execute_result"
    }
   ],
   "source": [
    "import pandas as pd\n",
    "df = pd.read_excel('ppp.xlsx')\n",
    "df.head(16)"
   ]
  },
  {
   "cell_type": "code",
   "execution_count": 9,
   "id": "1a5b6550-9874-4826-bae4-f3a6032c3ab2",
   "metadata": {},
   "outputs": [
    {
     "name": "stdout",
     "output_type": "stream",
     "text": [
      "Index(['Oil (Gal)', 'Temp ', 'Insulation'], dtype='object')\n"
     ]
    }
   ],
   "source": [
    "print(df.columns)"
   ]
  },
  {
   "cell_type": "code",
   "execution_count": 7,
   "id": "860818d4-6200-4d88-bd50-244c6d0127ef",
   "metadata": {},
   "outputs": [
    {
     "name": "stdout",
     "output_type": "stream",
     "text": [
      "Model A coefficients:\n",
      "b1 (Insulation) = 0.062162162162161784\n",
      "b0 = 39.872972972972974\n",
      "Model B coefficients:\n",
      "b1 (Oil) = -0.13848790553471674\n",
      "b0 = 70.24837496222928\n",
      "Model C coefficients:\n",
      "b1 (Insulation) = -3.516792553088044\n",
      "b2 (Oil) = -0.17586767486222063\n",
      "b0 = 100.61386532606262\n"
     ]
    }
   ],
   "source": [
    "from sklearn import linear_model\n",
    "\n",
    "# Model A:\n",
    "X_A = df[['Insulation']].values\n",
    "y = df['Temp '].values\n",
    "lin_model_A = linear_model.LinearRegression()\n",
    "lin_model_A.fit(X_A, y)\n",
    "print(f\"Model A coefficients:\")\n",
    "print(f'b1 (Insulation) = {lin_model_A.coef_[0]}')\n",
    "print(f'b0 = {lin_model_A.intercept_}')\n",
    "\n",
    "# Model B:\n",
    "X_B = df[['Oil (Gal)']].values\n",
    "lin_model_B = linear_model.LinearRegression()\n",
    "lin_model_B.fit(X_B, y)\n",
    "print(f\"Model B coefficients:\")\n",
    "print(f'b1 (Oil) = {lin_model_B.coef_[0]}')\n",
    "print(f'b0 = {lin_model_B.intercept_}')\n",
    "\n",
    "# Model C:\n",
    "X_C = df[['Insulation', 'Oil (Gal)']].values\n",
    "lin_model_C = linear_model.LinearRegression()\n",
    "lin_model_C.fit(X_C, y)\n",
    "print(f\"Model C coefficients:\")\n",
    "print(f'b1 (Insulation) = {lin_model_C.coef_[0]}')\n",
    "print(f'b2 (Oil) = {lin_model_C.coef_[1]}')\n",
    "print(f'b0 = {lin_model_C.intercept_}')\n"
   ]
  },
  {
   "cell_type": "code",
   "execution_count": 9,
   "id": "fa6cb48a-86c1-4bd5-b209-895db338462b",
   "metadata": {},
   "outputs": [
    {
     "name": "stdout",
     "output_type": "stream",
     "text": [
      "Model A Prediction (based on Insulation): 40.24594594594595\n",
      "Model B Prediction (based on Oil): 66.09373779618778\n",
      "Model C Prediction (based on Insulation and Oil): 74.23707976166774\n"
     ]
    }
   ],
   "source": [
    "# חיזוי עבור מודל A\n",
    "insulation = 6 \n",
    "pred_A = lin_model_A.predict([[insulation]]) \n",
    "\n",
    "# חיזוי עבור מודל B\n",
    "oil = 30  # \n",
    "pred_B = lin_model_B.predict([[oil]])\n",
    "\n",
    "# חיזוי עבור מודל C\n",
    "pred_C = lin_model_C.predict([[insulation, oil]])  \n",
    "\n",
    "# הצגת התוצאות\n",
    "print(f\"Model A Prediction (based on Insulation): {pred_A[0]}\")\n",
    "print(f\"Model B Prediction (based on Oil): {pred_B[0]}\")\n",
    "print(f\"Model C Prediction (based on Insulation and Oil): {pred_C[0]}\")\n"
   ]
  },
  {
   "cell_type": "code",
   "execution_count": 11,
   "id": "e5300370-5957-4445-b62a-59d41e755b54",
   "metadata": {},
   "outputs": [
    {
     "name": "stdout",
     "output_type": "stream",
     "text": [
      "R^2: 7.960278660934517e-05\n",
      "R^2: 0.7564497035201558\n",
      "R^2: 0.9561222802768\n",
      "Adjusted R^2=-0.07683735084518983\n",
      "Adjusted R^2=0.7377150653293987\n",
      "Adjusted R^2=0.9488093269896001\n"
     ]
    }
   ],
   "source": [
    "print(f\"R^2: {lin_model_A.score(X_A, y)}\")\n",
    "print(f\"R^2: {lin_model_B.score(X_B, y)}\")\n",
    "print(f\"R^2: {lin_model_C.score(X_C, y)}\")\n",
    "def adjusted_r_square(model, X, y):\n",
    "    coefficient = (X.shape[0]-1) / (X.shape[0]-X.shape[1]-1)\n",
    "    return (1 - (1-model.score(X, y)) * coefficient)\n",
    "\n",
    "print(f'Adjusted R^2={adjusted_r_square(lin_model_A, X_A, y)}')\n",
    "print(f'Adjusted R^2={adjusted_r_square(lin_model_B, X_B, y)}')\n",
    "print(f'Adjusted R^2={adjusted_r_square(lin_model_C, X_C, y)}')"
   ]
  },
  {
   "cell_type": "code",
   "execution_count": 23,
   "id": "c33d332c-b956-4776-9412-31af76567bcf",
   "metadata": {},
   "outputs": [
    {
     "name": "stdout",
     "output_type": "stream",
     "text": [
      "R^2: 0.257829\n",
      "R^2: 0.972507\n",
      "Adjusted R^2=0.13413418555159917\n",
      "Adjusted R^2=0.9650089143995272\n"
     ]
    }
   ],
   "source": [
    "df['Insulation_square'] = df['Insulation']**2\n",
    "X2 = df[['Insulation_square', 'Insulation']].values\n",
    "y = df['Oil (Gal)'].values\n",
    "lin_model_BB = linear_model.LinearRegression()\n",
    "lin_model_BB.fit(X2, y)\n",
    "print(\"R^2: {:.6f}\".format(lin_model_BB.score(X2, y)))\n",
    "XC = df[['Insulation_square', 'Insulation','Temp ']].values\n",
    "yC = df['Oil (Gal)'].values\n",
    "lin_model_CC = linear_model.LinearRegression()\n",
    "lin_model_CC.fit(XC, yC)\n",
    "print(\"R^2: {:.6f}\".format(lin_model_CC.score(XC, yC)))\n",
    "print(f'Adjusted R^2={adjusted_r_square(lin_model_BB, X2, y)}')\n",
    "print(f'Adjusted R^2={adjusted_r_square(lin_model_CC, XC, yC)}')"
   ]
  },
  {
   "attachments": {},
   "cell_type": "markdown",
   "id": "a5aac409",
   "metadata": {},
   "source": [
    "explain: In model B it is not worth adding the insulation in the second because the Adjusted R-squared comes out lower in the new model.\n",
    "and In the C  model, add the insulation in a second because the Adjusted R-squared comes out higher in the new mode"
   ]
  }
 ],
 "metadata": {
  "kernelspec": {
   "display_name": "Python 3 (ipykernel)",
   "language": "python",
   "name": "python3"
  },
  "language_info": {
   "codemirror_mode": {
    "name": "ipython",
    "version": 3
   },
   "file_extension": ".py",
   "mimetype": "text/x-python",
   "name": "python",
   "nbconvert_exporter": "python",
   "pygments_lexer": "ipython3",
   "version": "3.12.4"
  }
 },
 "nbformat": 4,
 "nbformat_minor": 5
}
